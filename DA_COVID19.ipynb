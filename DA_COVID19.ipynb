{
 "cells": [
  {
   "cell_type": "markdown",
   "metadata": {},
   "source": [
    "# COVID19Py"
   ]
  },
  {
   "cell_type": "markdown",
   "metadata": {},
   "source": [
    "\n",
    "A tiny Python package by Kamaropoulos (https://github.com/Kamaropoulos) for easy access to up-to-date Coronavirus (COVID-19, SARS-CoV-2) cases data.\n",
    "https://github.com/Kamaropoulos/COVID19Py\n",
    "https://pypi.org/project/COVID19Py/\n",
    "\n",
    "COVID19Py is a Python wrapper for the ExpDev07/coronavirus-tracker-api (https://github.com/ExpDev07/coronavirus-tracker-api)  REST API.\n",
    "It retrieves data directly from @ExpDev07's (https://github.com/ExpDev07) backend but it can also be set up to use a different backend.\n",
    "\n",
    "\n",
    "\n",
    "\n"
   ]
  },
  {
   "cell_type": "code",
   "execution_count": null,
   "metadata": {},
   "outputs": [],
   "source": [
    "from COVID19Py import COVID19\n",
    "import pandas as pd"
   ]
  },
  {
   "cell_type": "code",
   "execution_count": 44,
   "metadata": {},
   "outputs": [
    {
     "name": "stdout",
     "output_type": "stream",
     "text": [
      "The lastest stats are:  {'confirmed': 1511104, 'deaths': 88338, 'recovered': 0}\n"
     ]
    }
   ],
   "source": [
    "co = COVID19(data_source='jhu') # data_source = 'jhu'(default) or 'csbs'\n",
    "\n",
    "latest = co.getLatest() # the latest count fr\n",
    "print(\"The lastest stats are: \", latest)\n",
    "\n",
    "locations = co.getLocations() # getting all data of all the locations"
   ]
  },
  {
   "cell_type": "code",
   "execution_count": 45,
   "metadata": {},
   "outputs": [],
   "source": [
    "\n",
    "def convertToList(locations):\n",
    "    '''\n",
    "        Takes the raw data received from covid19.getLocations() in the form of list\n",
    "        and returns a list of lists, in which each list denotes the data for a\n",
    "        specific id\n",
    "    '''\n",
    "    l1, l2, ltc = [], [], []\n",
    "    for e1 in locations:\n",
    "        for e2 in e1.values():\n",
    "            if type(e2) is dict: # to extract information from dictionary 'coordinates' and 'latest'\n",
    "                if len(e2) == 2:\n",
    "                    l1.append(e2['latitude'])\n",
    "                    l1.append(e2['longitude'])\n",
    "                elif len(e2) == 3:\n",
    "                    l1.append(e2['confirmed'])\n",
    "                    l1.append(e2['deaths'])\n",
    "                    l1.append(e2['recovered'])\n",
    "            else:\n",
    "                l1.append(e2)  # l1 has the data of one id at a time\n",
    "        ltc = l1.copy() # temporary variable to hold value of list l1\n",
    "        l2.append(ltc) # appending all the data into l2, a list of lists\n",
    "        l1.clear()\n",
    "    return l2"
   ]
  },
  {
   "cell_type": "code",
   "execution_count": 46,
   "metadata": {},
   "outputs": [],
   "source": [
    "data = convertToList(locations) # convertToList() function returns a list in proper format\n",
    "\n",
    "column_list = 'id country country_code country_population province last_updated latitude longitude confirmed_cases confirmed_deaths recovered'"
   ]
  },
  {
   "cell_type": "code",
   "execution_count": null,
   "metadata": {},
   "outputs": [],
   "source": [
    "# creating a pandas DataFrame to make the task of performing data analysis a cake walk\n",
    "\n",
    "df = pd.DataFrame(data, columns = column_list.split())"
   ]
  },
  {
   "cell_type": "code",
   "execution_count": 47,
   "metadata": {
    "scrolled": false
   },
   "outputs": [
    {
     "data": {
      "text/html": [
       "<div>\n",
       "<style scoped>\n",
       "    .dataframe tbody tr th:only-of-type {\n",
       "        vertical-align: middle;\n",
       "    }\n",
       "\n",
       "    .dataframe tbody tr th {\n",
       "        vertical-align: top;\n",
       "    }\n",
       "\n",
       "    .dataframe thead th {\n",
       "        text-align: right;\n",
       "    }\n",
       "</style>\n",
       "<table border=\"1\" class=\"dataframe\">\n",
       "  <thead>\n",
       "    <tr style=\"text-align: right;\">\n",
       "      <th></th>\n",
       "      <th>id</th>\n",
       "      <th>country</th>\n",
       "      <th>country_code</th>\n",
       "      <th>country_population</th>\n",
       "      <th>province</th>\n",
       "      <th>last_updated</th>\n",
       "      <th>latitude</th>\n",
       "      <th>longitude</th>\n",
       "      <th>confirmed_cases</th>\n",
       "      <th>confirmed_deaths</th>\n",
       "      <th>recovered</th>\n",
       "    </tr>\n",
       "  </thead>\n",
       "  <tbody>\n",
       "    <tr>\n",
       "      <td>0</td>\n",
       "      <td>0</td>\n",
       "      <td>Afghanistan</td>\n",
       "      <td>AF</td>\n",
       "      <td>29121286.0</td>\n",
       "      <td></td>\n",
       "      <td>2020-04-09T07:20:41.338703Z</td>\n",
       "      <td>33.0</td>\n",
       "      <td>65.0</td>\n",
       "      <td>444</td>\n",
       "      <td>14</td>\n",
       "      <td>0</td>\n",
       "    </tr>\n",
       "    <tr>\n",
       "      <td>1</td>\n",
       "      <td>1</td>\n",
       "      <td>Albania</td>\n",
       "      <td>AL</td>\n",
       "      <td>2986952.0</td>\n",
       "      <td></td>\n",
       "      <td>2020-04-09T07:20:41.342051Z</td>\n",
       "      <td>41.1533</td>\n",
       "      <td>20.1683</td>\n",
       "      <td>400</td>\n",
       "      <td>22</td>\n",
       "      <td>0</td>\n",
       "    </tr>\n",
       "    <tr>\n",
       "      <td>2</td>\n",
       "      <td>2</td>\n",
       "      <td>Algeria</td>\n",
       "      <td>DZ</td>\n",
       "      <td>34586184.0</td>\n",
       "      <td></td>\n",
       "      <td>2020-04-09T07:20:41.345501Z</td>\n",
       "      <td>28.0339</td>\n",
       "      <td>1.6596</td>\n",
       "      <td>1572</td>\n",
       "      <td>205</td>\n",
       "      <td>0</td>\n",
       "    </tr>\n",
       "    <tr>\n",
       "      <td>3</td>\n",
       "      <td>3</td>\n",
       "      <td>Andorra</td>\n",
       "      <td>AD</td>\n",
       "      <td>84000.0</td>\n",
       "      <td></td>\n",
       "      <td>2020-04-09T07:20:41.349086Z</td>\n",
       "      <td>42.5063</td>\n",
       "      <td>1.5218</td>\n",
       "      <td>564</td>\n",
       "      <td>23</td>\n",
       "      <td>0</td>\n",
       "    </tr>\n",
       "    <tr>\n",
       "      <td>4</td>\n",
       "      <td>4</td>\n",
       "      <td>Angola</td>\n",
       "      <td>AO</td>\n",
       "      <td>13068161.0</td>\n",
       "      <td></td>\n",
       "      <td>2020-04-09T07:20:41.352340Z</td>\n",
       "      <td>-11.2027</td>\n",
       "      <td>17.8739</td>\n",
       "      <td>19</td>\n",
       "      <td>2</td>\n",
       "      <td>0</td>\n",
       "    </tr>\n",
       "  </tbody>\n",
       "</table>\n",
       "</div>"
      ],
      "text/plain": [
       "   id      country country_code  country_population province  \\\n",
       "0   0  Afghanistan           AF          29121286.0            \n",
       "1   1      Albania           AL           2986952.0            \n",
       "2   2      Algeria           DZ          34586184.0            \n",
       "3   3      Andorra           AD             84000.0            \n",
       "4   4       Angola           AO          13068161.0            \n",
       "\n",
       "                  last_updated  latitude longitude  confirmed_cases  \\\n",
       "0  2020-04-09T07:20:41.338703Z      33.0      65.0              444   \n",
       "1  2020-04-09T07:20:41.342051Z   41.1533   20.1683              400   \n",
       "2  2020-04-09T07:20:41.345501Z   28.0339    1.6596             1572   \n",
       "3  2020-04-09T07:20:41.349086Z   42.5063    1.5218              564   \n",
       "4  2020-04-09T07:20:41.352340Z  -11.2027   17.8739               19   \n",
       "\n",
       "   confirmed_deaths  recovered  \n",
       "0                14          0  \n",
       "1                22          0  \n",
       "2               205          0  \n",
       "3                23          0  \n",
       "4                 2          0  "
      ]
     },
     "execution_count": 47,
     "metadata": {},
     "output_type": "execute_result"
    }
   ],
   "source": [
    "# reading first five rows of the dataframe \n",
    "\n",
    "df.head()"
   ]
  },
  {
   "cell_type": "raw",
   "metadata": {},
   "source": [
    "# pandas.to_csv(\"filename.csv\") can be used to save the data to a csv (comma-separated values) file."
   ]
  },
  {
   "cell_type": "code",
   "execution_count": null,
   "metadata": {},
   "outputs": [],
   "source": []
  }
 ],
 "metadata": {
  "kernelspec": {
   "display_name": "Python 3",
   "language": "python",
   "name": "python3"
  },
  "language_info": {
   "codemirror_mode": {
    "name": "ipython",
    "version": 3
   },
   "file_extension": ".py",
   "mimetype": "text/x-python",
   "name": "python",
   "nbconvert_exporter": "python",
   "pygments_lexer": "ipython3",
   "version": "3.7.4"
  }
 },
 "nbformat": 4,
 "nbformat_minor": 2
}
